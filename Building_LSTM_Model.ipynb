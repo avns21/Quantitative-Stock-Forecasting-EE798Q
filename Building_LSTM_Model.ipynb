{
  "nbformat": 4,
  "nbformat_minor": 0,
  "metadata": {
    "colab": {
      "provenance": [],
      "mount_file_id": "1nkhWNzrrJ3QIJBxCjGQwIYyy4o1IxZbh",
      "authorship_tag": "ABX9TyPAZuWta8/mrBNs/qur3GcA",
      "include_colab_link": true
    },
    "kernelspec": {
      "name": "python3",
      "display_name": "Python 3"
    },
    "language_info": {
      "name": "python"
    }
  },
  "cells": [
    {
      "cell_type": "markdown",
      "metadata": {
        "id": "view-in-github",
        "colab_type": "text"
      },
      "source": [
        "<a href=\"https://colab.research.google.com/github/avns21/Quantitative-Stock-Forecasting-EE798Q/blob/main/Building_LSTM_Model.ipynb\" target=\"_parent\"><img src=\"https://colab.research.google.com/assets/colab-badge.svg\" alt=\"Open In Colab\"/></a>"
      ]
    },
    {
      "cell_type": "code",
      "execution_count": null,
      "metadata": {
        "id": "Y2gvg3-d9Nvr"
      },
      "outputs": [],
      "source": [
        "import numpy as np\n",
        "import matplotlib.pyplot as plt\n",
        "import pandas as pd\n"
      ]
    },
    {
      "cell_type": "code",
      "source": [
        "import random\n",
        "from sklearn.preprocessing import MinMaxScaler\n",
        "from keras.models import Sequential\n",
        "from keras.layers import LSTM, Dense"
      ],
      "metadata": {
        "id": "a3X_BjliM3em"
      },
      "execution_count": null,
      "outputs": []
    },
    {
      "cell_type": "code",
      "source": [
        "from google.colab import drive\n",
        "drive.mount('/content/drive')"
      ],
      "metadata": {
        "colab": {
          "base_uri": "https://localhost:8080/"
        },
        "id": "2i9u9tg39cHX",
        "outputId": "30780aa9-f833-4456-8bda-514ca6c0a76c"
      },
      "execution_count": null,
      "outputs": [
        {
          "output_type": "stream",
          "name": "stdout",
          "text": [
            "Drive already mounted at /content/drive; to attempt to forcibly remount, call drive.mount(\"/content/drive\", force_remount=True).\n"
          ]
        }
      ]
    },
    {
      "cell_type": "code",
      "source": [
        " df = pd.read_csv('/content/drive/MyDrive/STOCK_INDEX.csv')"
      ],
      "metadata": {
        "id": "DkzJKFPZM9Z2"
      },
      "execution_count": null,
      "outputs": []
    },
    {
      "cell_type": "code",
      "source": [
        "random.seed(10)"
      ],
      "metadata": {
        "id": "2IW5FuxSNUNg"
      },
      "execution_count": null,
      "outputs": []
    },
    {
      "cell_type": "code",
      "source": [
        "df_fixed = df.interpolate()"
      ],
      "metadata": {
        "id": "vcc0fXqMNY6a"
      },
      "execution_count": null,
      "outputs": []
    },
    {
      "cell_type": "code",
      "source": [
        "df2 = df_fixed.reset_index()['Close']"
      ],
      "metadata": {
        "id": "hN3hiSStNfIV"
      },
      "execution_count": null,
      "outputs": []
    },
    {
      "cell_type": "code",
      "source": [
        " scaler = MinMaxScaler(feature_range = (0,1))\n",
        " df1 = scaler.fit_transform(np.array(df2).reshape(-1,1))\n",
        "\n"
      ],
      "metadata": {
        "id": "O9Gx_nRxNiuy"
      },
      "execution_count": null,
      "outputs": []
    },
    {
      "cell_type": "code",
      "source": [
        "df1.shape"
      ],
      "metadata": {
        "colab": {
          "base_uri": "https://localhost:8080/"
        },
        "id": "AEOZlfvWPBEU",
        "outputId": "3d797bec-e87d-457b-886b-f098dbde6932"
      },
      "execution_count": null,
      "outputs": [
        {
          "output_type": "execute_result",
          "data": {
            "text/plain": [
              "(2694, 1)"
            ]
          },
          "metadata": {},
          "execution_count": 352
        }
      ]
    },
    {
      "cell_type": "code",
      "source": [
        "training_size = int(len(df1)*0.80)"
      ],
      "metadata": {
        "id": "9t0HvDAlPboR"
      },
      "execution_count": null,
      "outputs": []
    },
    {
      "cell_type": "code",
      "source": [
        " test_size = len(df1) - training_size\n",
        " train_data,test_data = df1[0:training_size,:],df1[training_size:len(df1),:1]\n"
      ],
      "metadata": {
        "id": "DZn1RsvtPg97"
      },
      "execution_count": null,
      "outputs": []
    },
    {
      "cell_type": "code",
      "source": [
        "def create_ds(dataset,step):\n",
        "    Xtrain, Ytrain = [], []\n",
        "    for i in range(len(dataset)-step-1):\n",
        "        a = dataset[i:(i+step), 0]\n",
        "        Xtrain.append(a)\n",
        "        Ytrain.append(dataset[i + step, 0])\n",
        "    return np.array(Xtrain), np.array(Ytrain)"
      ],
      "metadata": {
        "id": "HvVY3Bc1P0T_"
      },
      "execution_count": null,
      "outputs": []
    },
    {
      "cell_type": "code",
      "source": [
        "# Number of previous time steps to use as input features\n",
        "look_back = 3\n",
        "train_X, train_Y = create_ds(train_data, look_back)\n",
        "test_X, test_Y = create_ds(test_data, look_back)"
      ],
      "metadata": {
        "id": "o1ijBKkZPk5m"
      },
      "execution_count": null,
      "outputs": []
    },
    {
      "cell_type": "code",
      "source": [
        " # Reshape the input features to fit the LSTM input shape [samples, time steps, features]\n",
        "train_X = np.reshape(train_X, (train_X.shape[0], train_X.shape[1], 1))\n",
        "test_X = np.reshape(test_X, (test_X.shape[0], test_X.shape[1], 1))"
      ],
      "metadata": {
        "id": "n9shOtnlP2rj"
      },
      "execution_count": null,
      "outputs": []
    },
    {
      "cell_type": "code",
      "source": [
        "# Build the LSTM model\n",
        "model = Sequential()\n",
        "model.add(LSTM(units=64, return_sequences=True, input_shape=(look_back, 1)))\n",
        "model.add(LSTM(units=64))\n",
        "model.add(Dense(units=1))\n",
        "model.compile(optimizer='adam', loss='mean_squared_error')"
      ],
      "metadata": {
        "id": "Lj27CxEwQMP-"
      },
      "execution_count": null,
      "outputs": []
    },
    {
      "cell_type": "code",
      "source": [
        " # Train the model\n",
        "epochs = 100  # Adjust the number of epochs based on your dataset size\n",
        "batch_size = 50  # Adjust the batch size based on your dataset size\n",
        "model.fit(train_X, train_Y, epochs=epochs, batch_size=batch_size)"
      ],
      "metadata": {
        "colab": {
          "base_uri": "https://localhost:8080/"
        },
        "id": "moeVensGQTUC",
        "outputId": "ae3e34fb-7b23-49a3-ef37-f87525702a5d"
      },
      "execution_count": null,
      "outputs": [
        {
          "output_type": "stream",
          "name": "stdout",
          "text": [
            "Epoch 1/100\n",
            "44/44 [==============================] - 4s 8ms/step - loss: 0.0256\n",
            "Epoch 2/100\n",
            "44/44 [==============================] - 0s 9ms/step - loss: 6.4274e-04\n",
            "Epoch 3/100\n",
            "44/44 [==============================] - 0s 9ms/step - loss: 1.4231e-04\n",
            "Epoch 4/100\n",
            "44/44 [==============================] - 0s 8ms/step - loss: 1.3527e-04\n",
            "Epoch 5/100\n",
            "44/44 [==============================] - 0s 8ms/step - loss: 1.2129e-04\n",
            "Epoch 6/100\n",
            "44/44 [==============================] - 1s 13ms/step - loss: 1.1067e-04\n",
            "Epoch 7/100\n",
            "44/44 [==============================] - 1s 12ms/step - loss: 1.2246e-04\n",
            "Epoch 8/100\n",
            "44/44 [==============================] - 1s 13ms/step - loss: 1.0173e-04\n",
            "Epoch 9/100\n",
            "44/44 [==============================] - 1s 12ms/step - loss: 9.9205e-05\n",
            "Epoch 10/100\n",
            "44/44 [==============================] - 1s 12ms/step - loss: 9.4468e-05\n",
            "Epoch 11/100\n",
            "44/44 [==============================] - 1s 12ms/step - loss: 9.2644e-05\n",
            "Epoch 12/100\n",
            "44/44 [==============================] - 1s 13ms/step - loss: 9.2033e-05\n",
            "Epoch 13/100\n",
            "44/44 [==============================] - 1s 12ms/step - loss: 9.1754e-05\n",
            "Epoch 14/100\n",
            "44/44 [==============================] - 1s 12ms/step - loss: 9.4269e-05\n",
            "Epoch 15/100\n",
            "44/44 [==============================] - 1s 13ms/step - loss: 1.0646e-04\n",
            "Epoch 16/100\n",
            "44/44 [==============================] - 0s 11ms/step - loss: 1.0076e-04\n",
            "Epoch 17/100\n",
            "44/44 [==============================] - 0s 8ms/step - loss: 9.7385e-05\n",
            "Epoch 18/100\n",
            "44/44 [==============================] - 0s 8ms/step - loss: 9.5033e-05\n",
            "Epoch 19/100\n",
            "44/44 [==============================] - 0s 8ms/step - loss: 1.0335e-04\n",
            "Epoch 20/100\n",
            "44/44 [==============================] - 0s 8ms/step - loss: 9.5765e-05\n",
            "Epoch 21/100\n",
            "44/44 [==============================] - 0s 8ms/step - loss: 9.3406e-05\n",
            "Epoch 22/100\n",
            "44/44 [==============================] - 0s 8ms/step - loss: 9.0996e-05\n",
            "Epoch 23/100\n",
            "44/44 [==============================] - 0s 8ms/step - loss: 1.0133e-04\n",
            "Epoch 24/100\n",
            "44/44 [==============================] - 0s 8ms/step - loss: 1.0078e-04\n",
            "Epoch 25/100\n",
            "44/44 [==============================] - 0s 8ms/step - loss: 9.0603e-05\n",
            "Epoch 26/100\n",
            "44/44 [==============================] - 0s 8ms/step - loss: 1.0527e-04\n",
            "Epoch 27/100\n",
            "44/44 [==============================] - 0s 8ms/step - loss: 9.2707e-05\n",
            "Epoch 28/100\n",
            "44/44 [==============================] - 0s 8ms/step - loss: 9.3913e-05\n",
            "Epoch 29/100\n",
            "44/44 [==============================] - 0s 9ms/step - loss: 9.5198e-05\n",
            "Epoch 30/100\n",
            "44/44 [==============================] - 0s 8ms/step - loss: 1.0304e-04\n",
            "Epoch 31/100\n",
            "44/44 [==============================] - 0s 8ms/step - loss: 9.2705e-05\n",
            "Epoch 32/100\n",
            "44/44 [==============================] - 0s 8ms/step - loss: 1.0963e-04\n",
            "Epoch 33/100\n",
            "44/44 [==============================] - 0s 8ms/step - loss: 9.0984e-05\n",
            "Epoch 34/100\n",
            "44/44 [==============================] - 0s 8ms/step - loss: 9.4016e-05\n",
            "Epoch 35/100\n",
            "44/44 [==============================] - 0s 9ms/step - loss: 9.6665e-05\n",
            "Epoch 36/100\n",
            "44/44 [==============================] - 0s 8ms/step - loss: 8.9208e-05\n",
            "Epoch 37/100\n",
            "44/44 [==============================] - 0s 9ms/step - loss: 9.3297e-05\n",
            "Epoch 38/100\n",
            "44/44 [==============================] - 0s 8ms/step - loss: 9.0579e-05\n",
            "Epoch 39/100\n",
            "44/44 [==============================] - 0s 8ms/step - loss: 8.9828e-05\n",
            "Epoch 40/100\n",
            "44/44 [==============================] - 0s 9ms/step - loss: 8.9364e-05\n",
            "Epoch 41/100\n",
            "44/44 [==============================] - 0s 8ms/step - loss: 9.1821e-05\n",
            "Epoch 42/100\n",
            "44/44 [==============================] - 0s 8ms/step - loss: 1.0022e-04\n",
            "Epoch 43/100\n",
            "44/44 [==============================] - 0s 10ms/step - loss: 9.0030e-05\n",
            "Epoch 44/100\n",
            "44/44 [==============================] - 1s 12ms/step - loss: 9.3117e-05\n",
            "Epoch 45/100\n",
            "44/44 [==============================] - 1s 13ms/step - loss: 8.9551e-05\n",
            "Epoch 46/100\n",
            "44/44 [==============================] - 1s 12ms/step - loss: 8.9808e-05\n",
            "Epoch 47/100\n",
            "44/44 [==============================] - 1s 13ms/step - loss: 9.1965e-05\n",
            "Epoch 48/100\n",
            "44/44 [==============================] - 1s 13ms/step - loss: 9.3809e-05\n",
            "Epoch 49/100\n",
            "44/44 [==============================] - 1s 12ms/step - loss: 1.5867e-04\n",
            "Epoch 50/100\n",
            "44/44 [==============================] - 1s 12ms/step - loss: 9.2517e-05\n",
            "Epoch 51/100\n",
            "44/44 [==============================] - 1s 13ms/step - loss: 8.8404e-05\n",
            "Epoch 52/100\n",
            "44/44 [==============================] - 1s 13ms/step - loss: 9.1451e-05\n",
            "Epoch 53/100\n",
            "44/44 [==============================] - 1s 12ms/step - loss: 9.1301e-05\n",
            "Epoch 54/100\n",
            "44/44 [==============================] - 0s 9ms/step - loss: 1.2758e-04\n",
            "Epoch 55/100\n",
            "44/44 [==============================] - 0s 8ms/step - loss: 9.7732e-05\n",
            "Epoch 56/100\n",
            "44/44 [==============================] - 0s 8ms/step - loss: 8.7029e-05\n",
            "Epoch 57/100\n",
            "44/44 [==============================] - 0s 9ms/step - loss: 8.8335e-05\n",
            "Epoch 58/100\n",
            "44/44 [==============================] - 0s 8ms/step - loss: 1.2045e-04\n",
            "Epoch 59/100\n",
            "44/44 [==============================] - 0s 8ms/step - loss: 1.1941e-04\n",
            "Epoch 60/100\n",
            "44/44 [==============================] - 0s 9ms/step - loss: 9.1281e-05\n",
            "Epoch 61/100\n",
            "44/44 [==============================] - 0s 8ms/step - loss: 9.6248e-05\n",
            "Epoch 62/100\n",
            "44/44 [==============================] - 0s 8ms/step - loss: 9.1846e-05\n",
            "Epoch 63/100\n",
            "44/44 [==============================] - 0s 9ms/step - loss: 8.9320e-05\n",
            "Epoch 64/100\n",
            "44/44 [==============================] - 0s 9ms/step - loss: 8.6364e-05\n",
            "Epoch 65/100\n",
            "44/44 [==============================] - 0s 9ms/step - loss: 9.7650e-05\n",
            "Epoch 66/100\n",
            "44/44 [==============================] - 0s 11ms/step - loss: 8.9071e-05\n",
            "Epoch 67/100\n",
            "44/44 [==============================] - 1s 13ms/step - loss: 9.1927e-05\n",
            "Epoch 68/100\n",
            "44/44 [==============================] - 1s 13ms/step - loss: 8.5841e-05\n",
            "Epoch 69/100\n",
            "44/44 [==============================] - 1s 13ms/step - loss: 8.4790e-05\n",
            "Epoch 70/100\n",
            "44/44 [==============================] - 1s 13ms/step - loss: 8.5601e-05\n",
            "Epoch 71/100\n",
            "44/44 [==============================] - 1s 13ms/step - loss: 8.4778e-05\n",
            "Epoch 72/100\n",
            "44/44 [==============================] - 1s 12ms/step - loss: 9.9578e-05\n",
            "Epoch 73/100\n",
            "44/44 [==============================] - 1s 12ms/step - loss: 9.3976e-05\n",
            "Epoch 74/100\n",
            "44/44 [==============================] - 1s 12ms/step - loss: 8.5824e-05\n",
            "Epoch 75/100\n",
            "44/44 [==============================] - 1s 14ms/step - loss: 1.4805e-04\n",
            "Epoch 76/100\n",
            "44/44 [==============================] - 1s 15ms/step - loss: 9.1844e-05\n",
            "Epoch 77/100\n",
            "44/44 [==============================] - 1s 13ms/step - loss: 8.5846e-05\n",
            "Epoch 78/100\n",
            "44/44 [==============================] - 1s 13ms/step - loss: 8.2744e-05\n",
            "Epoch 79/100\n",
            "44/44 [==============================] - 1s 12ms/step - loss: 8.7461e-05\n",
            "Epoch 80/100\n",
            "44/44 [==============================] - 1s 13ms/step - loss: 8.3102e-05\n",
            "Epoch 81/100\n",
            "44/44 [==============================] - 1s 13ms/step - loss: 9.7024e-05\n",
            "Epoch 82/100\n",
            "44/44 [==============================] - 1s 13ms/step - loss: 1.1913e-04\n",
            "Epoch 83/100\n",
            "44/44 [==============================] - 1s 13ms/step - loss: 7.9959e-05\n",
            "Epoch 84/100\n",
            "44/44 [==============================] - 1s 13ms/step - loss: 8.9466e-05\n",
            "Epoch 85/100\n",
            "44/44 [==============================] - 1s 13ms/step - loss: 8.7489e-05\n",
            "Epoch 86/100\n",
            "44/44 [==============================] - 1s 13ms/step - loss: 1.1735e-04\n",
            "Epoch 87/100\n",
            "44/44 [==============================] - 0s 9ms/step - loss: 7.9577e-05\n",
            "Epoch 88/100\n",
            "44/44 [==============================] - 0s 9ms/step - loss: 8.2567e-05\n",
            "Epoch 89/100\n",
            "44/44 [==============================] - 0s 8ms/step - loss: 8.1349e-05\n",
            "Epoch 90/100\n",
            "44/44 [==============================] - 0s 9ms/step - loss: 8.5967e-05\n",
            "Epoch 91/100\n",
            "44/44 [==============================] - 0s 8ms/step - loss: 8.4164e-05\n",
            "Epoch 92/100\n",
            "44/44 [==============================] - 0s 8ms/step - loss: 8.0769e-05\n",
            "Epoch 93/100\n",
            "44/44 [==============================] - 0s 9ms/step - loss: 1.2322e-04\n",
            "Epoch 94/100\n",
            "44/44 [==============================] - 0s 9ms/step - loss: 9.8223e-05\n",
            "Epoch 95/100\n",
            "44/44 [==============================] - 0s 8ms/step - loss: 8.2940e-05\n",
            "Epoch 96/100\n",
            "44/44 [==============================] - 0s 9ms/step - loss: 1.1295e-04\n",
            "Epoch 97/100\n",
            "44/44 [==============================] - 0s 8ms/step - loss: 8.1429e-05\n",
            "Epoch 98/100\n",
            "44/44 [==============================] - 0s 8ms/step - loss: 1.2417e-04\n",
            "Epoch 99/100\n",
            "44/44 [==============================] - 0s 8ms/step - loss: 7.6632e-05\n",
            "Epoch 100/100\n",
            "44/44 [==============================] - 0s 8ms/step - loss: 7.9266e-05\n"
          ]
        },
        {
          "output_type": "execute_result",
          "data": {
            "text/plain": [
              "<keras.callbacks.History at 0x7fc04adf6f80>"
            ]
          },
          "metadata": {},
          "execution_count": 360
        }
      ]
    },
    {
      "cell_type": "code",
      "source": [
        "# Save the model\n",
        "model.save(\"lstm_model3.h5\")"
      ],
      "metadata": {
        "id": "rIT2e1k5fXJA"
      },
      "execution_count": null,
      "outputs": []
    },
    {
      "cell_type": "code",
      "source": [
        "from google.colab import files\n",
        "# Download the model file\n",
        "files.download(\"lstm_model3.h5\")"
      ],
      "metadata": {
        "colab": {
          "base_uri": "https://localhost:8080/",
          "height": 17
        },
        "id": "IFmG9P3cfdC2",
        "outputId": "cf1925cf-4659-4bd2-91af-c7fd59cf6f7d"
      },
      "execution_count": null,
      "outputs": [
        {
          "output_type": "display_data",
          "data": {
            "text/plain": [
              "<IPython.core.display.Javascript object>"
            ],
            "application/javascript": [
              "\n",
              "    async function download(id, filename, size) {\n",
              "      if (!google.colab.kernel.accessAllowed) {\n",
              "        return;\n",
              "      }\n",
              "      const div = document.createElement('div');\n",
              "      const label = document.createElement('label');\n",
              "      label.textContent = `Downloading \"${filename}\": `;\n",
              "      div.appendChild(label);\n",
              "      const progress = document.createElement('progress');\n",
              "      progress.max = size;\n",
              "      div.appendChild(progress);\n",
              "      document.body.appendChild(div);\n",
              "\n",
              "      const buffers = [];\n",
              "      let downloaded = 0;\n",
              "\n",
              "      const channel = await google.colab.kernel.comms.open(id);\n",
              "      // Send a message to notify the kernel that we're ready.\n",
              "      channel.send({})\n",
              "\n",
              "      for await (const message of channel.messages) {\n",
              "        // Send a message to notify the kernel that we're ready.\n",
              "        channel.send({})\n",
              "        if (message.buffers) {\n",
              "          for (const buffer of message.buffers) {\n",
              "            buffers.push(buffer);\n",
              "            downloaded += buffer.byteLength;\n",
              "            progress.value = downloaded;\n",
              "          }\n",
              "        }\n",
              "      }\n",
              "      const blob = new Blob(buffers, {type: 'application/binary'});\n",
              "      const a = document.createElement('a');\n",
              "      a.href = window.URL.createObjectURL(blob);\n",
              "      a.download = filename;\n",
              "      div.appendChild(a);\n",
              "      a.click();\n",
              "      div.remove();\n",
              "    }\n",
              "  "
            ]
          },
          "metadata": {}
        },
        {
          "output_type": "display_data",
          "data": {
            "text/plain": [
              "<IPython.core.display.Javascript object>"
            ],
            "application/javascript": [
              "download(\"download_0b634bc2-588f-442a-8a9c-83dfb4e9a8de\", \"lstm_model3.h5\", 642432)"
            ]
          },
          "metadata": {}
        }
      ]
    },
    {
      "cell_type": "code",
      "source": [
        "#PLotting loss, it shows that loss has decreased significantly and model trained well\n",
        "loss = model.history.history['loss']\n",
        "plt.plot(loss)"
      ],
      "metadata": {
        "colab": {
          "base_uri": "https://localhost:8080/",
          "height": 448
        },
        "id": "ipVKrN9Rcmis",
        "outputId": "670c0ed7-8434-4715-bfa3-28412c600aa1"
      },
      "execution_count": null,
      "outputs": [
        {
          "output_type": "execute_result",
          "data": {
            "text/plain": [
              "[<matplotlib.lines.Line2D at 0x7fc0459e7100>]"
            ]
          },
          "metadata": {},
          "execution_count": 362
        },
        {
          "output_type": "display_data",
          "data": {
            "text/plain": [
              "<Figure size 640x480 with 1 Axes>"
            ],
            "image/png": "[encoded data removed]"
          },
          "metadata": {}
        }
      ]
    },
    {
      "cell_type": "code",
      "source": [
        "# Calculate Mean Squared Error (MSE)\n",
        "mse = model.evaluate(test_X, test_Y, verbose=0)\n",
        "print(\"Mean Squared Error (MSE):\", mse)\n",
        "\n",
        "# Calculate Directional Accuracy\n",
        "# Make predictions on test data\n",
        "predictions = model.predict(test_X)\n",
        "\n",
        "# Compute the directional accuracy\n",
        "directional_accuracy = np.mean(np.sign(predictions[:, 0] - test_Y) == np.sign(predictions[:, 0] - test_Y))\n",
        "print(\"Directional Accuracy:\", directional_accuracy)"
      ],
      "metadata": {
        "colab": {
          "base_uri": "https://localhost:8080/"
        },
        "id": "CCcJhkZ0WbGM",
        "outputId": "231af7cf-fde4-4ceb-8792-161efc7666b7"
      },
      "execution_count": null,
      "outputs": [
        {
          "output_type": "stream",
          "name": "stdout",
          "text": [
            "Mean Squared Error (MSE): 0.0014595449902117252\n",
            "17/17 [==============================] - 0s 3ms/step\n",
            "Directional Accuracy: 1.0\n"
          ]
        }
      ]
    },
    {
      "cell_type": "code",
      "source": [
        "train_predictions = model.predict(train_X)\n",
        "test_predictions = model.predict(test_X)"
      ],
      "metadata": {
        "colab": {
          "base_uri": "https://localhost:8080/"
        },
        "id": "hMwXqGGBRKM0",
        "outputId": "35a62fac-3adc-4109-f902-ed800a7b8d76"
      },
      "execution_count": null,
      "outputs": [
        {
          "output_type": "stream",
          "name": "stdout",
          "text": [
            "68/68 [==============================] - 0s 3ms/step\n",
            "17/17 [==============================] - 0s 3ms/step\n"
          ]
        }
      ]
    },
    {
      "cell_type": "code",
      "source": [
        "train_predictions = scaler.inverse_transform(train_predictions)\n",
        "train_Y = scaler.inverse_transform([train_Y])\n",
        "test_predictions = scaler.inverse_transform(test_predictions)\n",
        "test_Y = scaler.inverse_transform([test_Y])"
      ],
      "metadata": {
        "id": "Mp6iHZFdRNv4"
      },
      "execution_count": null,
      "outputs": []
    },
    {
      "cell_type": "code",
      "source": [
        "#Comparing using visuals\n",
        "plt.plot(scaler.inverse_transform(df1))\n",
        "plt.plot(train_predictions)\n",
        "plt.plot(test_predictions)"
      ],
      "metadata": {
        "colab": {
          "base_uri": "https://localhost:8080/",
          "height": 448
        },
        "id": "mUTQDqHQRwzY",
        "outputId": "b6032579-150b-4bd3-f0d8-a5d00816c2d8"
      },
      "execution_count": null,
      "outputs": [
        {
          "output_type": "execute_result",
          "data": {
            "text/plain": [
              "[<matplotlib.lines.Line2D at 0x7fc04574d9c0>]"
            ]
          },
          "metadata": {},
          "execution_count": 367
        },
        {
          "output_type": "display_data",
          "data": {
            "text/plain": [
              "<Figure size 640x480 with 1 Axes>"
            ],
            "image/png": "[encoded data removed]"
          },
          "metadata": {}
        }
      ]
    },
    {
      "cell_type": "code",
      "source": [
        "type(train_predictions)"
      ],
      "metadata": {
        "colab": {
          "base_uri": "https://localhost:8080/"
        },
        "id": "11aMF_JuSoHM",
        "outputId": "1e7942b2-c1ac-468b-aab4-95662851c7cd"
      },
      "execution_count": null,
      "outputs": [
        {
          "output_type": "execute_result",
          "data": {
            "text/plain": [
              "numpy.ndarray"
            ]
          },
          "metadata": {},
          "execution_count": 368
        }
      ]
    },
    {
      "cell_type": "code",
      "source": [
        "test = np.vstack((train_predictions,test_predictions))"
      ],
      "metadata": {
        "id": "-Ox7V2giSw1A"
      },
      "execution_count": null,
      "outputs": []
    },
    {
      "cell_type": "code",
      "source": [
        "#Combining the predited data to create uniform data visualization\n",
        "plt.plot(scaler.inverse_transform(df1))\n",
        "plt.plot(test)"
      ],
      "metadata": {
        "colab": {
          "base_uri": "https://localhost:8080/",
          "height": 448
        },
        "id": "wIs8nCQTS5XX",
        "outputId": "3cf02352-fa6e-4b6a-e33f-4ac633cbfa15"
      },
      "execution_count": null,
      "outputs": [
        {
          "output_type": "execute_result",
          "data": {
            "text/plain": [
              "[<matplotlib.lines.Line2D at 0x7fc0455e3640>]"
            ]
          },
          "metadata": {},
          "execution_count": 370
        },
        {
          "output_type": "display_data",
          "data": {
            "text/plain": [
              "<Figure size 640x480 with 1 Axes>"
            ],
            "image/png": "[encoded data removed]"
          },
          "metadata": {}
        }
      ]
    },
    {
      "cell_type": "code",
      "source": [
        "test"
      ],
      "metadata": {
        "colab": {
          "base_uri": "https://localhost:8080/"
        },
        "id": "BTElRmWyTFHM",
        "outputId": "c5c6e7fd-b84b-4b87-bf06-75af536088c1"
      },
      "execution_count": null,
      "outputs": [
        {
          "output_type": "execute_result",
          "data": {
            "text/plain": [
              "array([[ 5238.0537],\n",
              "       [ 5248.9004],\n",
              "       [ 5238.4316],\n",
              "       ...,\n",
              "       [13896.947 ],\n",
              "       [13972.843 ],\n",
              "       [14131.21  ]], dtype=float32)"
            ]
          },
          "metadata": {},
          "execution_count": 371
        }
      ]
    },
    {
      "cell_type": "code",
      "source": [
        "alpha  = scaler.inverse_transform(df1)\n",
        "alpha"
      ],
      "metadata": {
        "colab": {
          "base_uri": "https://localhost:8080/"
        },
        "id": "8_0mck3ATJ4Y",
        "outputId": "aa81b686-8ce9-4b9c-c747-9013f4a20cce"
      },
      "execution_count": null,
      "outputs": [
        {
          "output_type": "execute_result",
          "data": {
            "text/plain": [
              "array([[ 5232.200195],\n",
              "       [ 5277.899902],\n",
              "       [ 5281.799805],\n",
              "       ...,\n",
              "       [14864.54981 ],\n",
              "       [14894.90039 ],\n",
              "       [14631.09961 ]])"
            ]
          },
          "metadata": {},
          "execution_count": 372
        }
      ]
    },
    {
      "cell_type": "code",
      "source": [
        "len(test)"
      ],
      "metadata": {
        "colab": {
          "base_uri": "https://localhost:8080/"
        },
        "id": "_qpL_4MiTVM_",
        "outputId": "db74b240-1c97-4d35-e348-b6dc79b40b16"
      },
      "execution_count": null,
      "outputs": [
        {
          "output_type": "execute_result",
          "data": {
            "text/plain": [
              "2686"
            ]
          },
          "metadata": {},
          "execution_count": 373
        }
      ]
    },
    {
      "cell_type": "code",
      "source": [
        "len(alpha)"
      ],
      "metadata": {
        "colab": {
          "base_uri": "https://localhost:8080/"
        },
        "id": "dGM1wqIxTZ1f",
        "outputId": "e9fe08aa-fed4-46fa-c896-ca259a887fb1"
      },
      "execution_count": null,
      "outputs": [
        {
          "output_type": "execute_result",
          "data": {
            "text/plain": [
              "2694"
            ]
          },
          "metadata": {},
          "execution_count": 374
        }
      ]
    },
    {
      "cell_type": "code",
      "source": [
        "test[100]"
      ],
      "metadata": {
        "colab": {
          "base_uri": "https://localhost:8080/"
        },
        "id": "n9SyFUcGTl-C",
        "outputId": "5da4389a-47d4-4a1f-88cb-b991c0b061e6"
      },
      "execution_count": null,
      "outputs": [
        {
          "output_type": "execute_result",
          "data": {
            "text/plain": [
              "array([5037.9473], dtype=float32)"
            ]
          },
          "metadata": {},
          "execution_count": 375
        }
      ]
    },
    {
      "cell_type": "code",
      "source": [
        "alpha[100]"
      ],
      "metadata": {
        "colab": {
          "base_uri": "https://localhost:8080/"
        },
        "id": "TnnZSlkmTp8u",
        "outputId": "67cf8934-e047-4f10-e9b4-42a1bcd173aa"
      },
      "execution_count": null,
      "outputs": [
        {
          "output_type": "execute_result",
          "data": {
            "text/plain": [
              "array([5135.5])"
            ]
          },
          "metadata": {},
          "execution_count": 376
        }
      ]
    },
    {
      "cell_type": "code",
      "source": [
        "last_data = df1[-look_back:]\n",
        "next_two_days = []\n",
        "for _ in range(2):\n",
        "      input_data = last_data[-look_back:].reshape(1, look_back, 1)\n",
        "      predicted_price = model.predict(input_data)\n",
        "      next_two_days.append(predicted_price[0, 0])\n",
        "      last_data = np.append(last_data, predicted_price, axis=0)"
      ],
      "metadata": {
        "colab": {
          "base_uri": "https://localhost:8080/"
        },
        "id": "6wul1HIXjWi5",
        "outputId": "a9fadd6f-725c-46d0-8cd8-021aea8cfd64"
      },
      "execution_count": null,
      "outputs": [
        {
          "output_type": "stream",
          "name": "stdout",
          "text": [
            "1/1 [==============================] - 0s 24ms/step\n",
            "1/1 [==============================] - 0s 23ms/step\n"
          ]
        }
      ]
    },
    {
      "cell_type": "code",
      "source": [
        "predicted_prices = scaler.inverse_transform(np.array(next_two_days).reshape(-1, 1))\n",
        "\n",
        "predicted_prices.flatten().tolist()"
      ],
      "metadata": {
        "colab": {
          "base_uri": "https://localhost:8080/"
        },
        "id": "ggsgh2T2jixV",
        "outputId": "10720bfc-1b0a-4683-fa2a-1a1b8de3fd75"
      },
      "execution_count": null,
      "outputs": [
        {
          "output_type": "execute_result",
          "data": {
            "text/plain": [
              "[14251.7236328125, 14065.59375]"
            ]
          },
          "metadata": {},
          "execution_count": 378
        }
      ]
    },
    {
      "cell_type": "code",
      "source": [
        "dfs = pd.read_csv('/content/drive/MyDrive/sample2.csv')"
      ],
      "metadata": {
        "id": "nqutLQ_Cz_G2"
      },
      "execution_count": null,
      "outputs": []
    },
    {
      "cell_type": "code",
      "source": [
        "random.seed(10)"
      ],
      "metadata": {
        "id": "qE_QFo1N0DaX"
      },
      "execution_count": null,
      "outputs": []
    },
    {
      "cell_type": "code",
      "source": [
        "dfs_fixed = dfs.interpolate()\n",
        "dfs_fixed = dfs_fixed.dropna()"
      ],
      "metadata": {
        "id": "PSCjRVfW0JyO"
      },
      "execution_count": null,
      "outputs": []
    },
    {
      "cell_type": "code",
      "source": [
        "dfs2 = dfs_fixed.reset_index()['Close']"
      ],
      "metadata": {
        "id": "U13cy_gi0Rzt"
      },
      "execution_count": null,
      "outputs": []
    },
    {
      "cell_type": "code",
      "source": [
        " scaler = MinMaxScaler(feature_range = (0,1))\n",
        " dfs1 = scaler.fit_transform(np.array(dfs2).reshape(-1,1))"
      ],
      "metadata": {
        "id": "J1mMa2et0Yve"
      },
      "execution_count": null,
      "outputs": []
    },
    {
      "cell_type": "code",
      "source": [
        "dfs1.shape"
      ],
      "metadata": {
        "colab": {
          "base_uri": "https://localhost:8080/"
        },
        "id": "W3yOhlPJ0cWM",
        "outputId": "2b2d86e7-d846-4747-cc92-61e01fe062fc"
      },
      "execution_count": null,
      "outputs": [
        {
          "output_type": "execute_result",
          "data": {
            "text/plain": [
              "(49, 1)"
            ]
          },
          "metadata": {},
          "execution_count": 384
        }
      ]
    },
    {
      "cell_type": "code",
      "source": [
        "last_data = df1[-look_back:]\n",
        "next_two_days = []\n",
        "for _ in range(2):\n",
        "      input_data = last_data[-look_back:].reshape(1, look_back, 1)\n",
        "      predicted_price = model.predict(input_data)\n",
        "      next_two_days.append(predicted_price[0, 0])\n",
        "      last_data = np.append(last_data, predicted_price, axis=0)"
      ],
      "metadata": {
        "colab": {
          "base_uri": "https://localhost:8080/"
        },
        "id": "7Cy1OAlu0o_C",
        "outputId": "eaed2d32-250c-45dc-e915-563314192d14"
      },
      "execution_count": null,
      "outputs": [
        {
          "output_type": "stream",
          "name": "stdout",
          "text": [
            "1/1 [==============================] - 0s 36ms/step\n",
            "1/1 [==============================] - 0s 44ms/step\n"
          ]
        }
      ]
    },
    {
      "cell_type": "code",
      "source": [
        "predicted_prices = scaler.inverse_transform(np.array(next_two_days).reshape(-1, 1))\n",
        "\n",
        "predicted_prices.flatten().tolist()"
      ],
      "metadata": {
        "colab": {
          "base_uri": "https://localhost:8080/"
        },
        "id": "q6BGNmHH0s3_",
        "outputId": "3cf4153c-e0ad-4d95-88d5-f6c33fe6c995"
      },
      "execution_count": null,
      "outputs": [
        {
          "output_type": "execute_result",
          "data": {
            "text/plain": [
              "[6043.88330078125, 6037.15673828125]"
            ]
          },
          "metadata": {},
          "execution_count": 386
        }
      ]
    }
  ]
}